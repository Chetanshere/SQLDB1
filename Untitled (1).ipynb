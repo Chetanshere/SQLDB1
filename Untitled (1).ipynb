{
 "cells": [
  {
   "cell_type": "markdown",
   "id": "1ba7079c-35d9-49f1-a5bc-2da1c82a3e11",
   "metadata": {},
   "source": [
    "Question 1 - Extracting Tesla Stock Data Using yfinance "
   ]
  },
  {
   "cell_type": "code",
   "execution_count": 3,
   "id": "3141081f-9974-461f-a078-a3680ebc8d4a",
   "metadata": {},
   "outputs": [],
   "source": [
    "import yfinance as yf"
   ]
  },
  {
   "cell_type": "code",
   "execution_count": 4,
   "id": "170247d8-b3bf-4517-a77f-94f011db907a",
   "metadata": {},
   "outputs": [],
   "source": [
    "tickersymbol= 'TSLA'"
   ]
  },
  {
   "cell_type": "code",
   "execution_count": 6,
   "id": "f13538ca-ea0c-4ba0-9702-c376ea8516e4",
   "metadata": {},
   "outputs": [],
   "source": [
    "tickerData = yf.Ticker(tickersymbol)"
   ]
  },
  {
   "cell_type": "code",
   "execution_count": 7,
   "id": "6697315b-0a72-45c0-b18d-998ef380d25c",
   "metadata": {},
   "outputs": [],
   "source": [
    "tickerDf = tickerData.history(period='1d', start='2010-01-01', end='2023-05-01')"
   ]
  },
  {
   "cell_type": "code",
   "execution_count": 9,
   "id": "ed6cf120-02bc-47c3-aa3b-60d0ed79dee3",
   "metadata": {},
   "outputs": [
    {
     "name": "stdout",
     "output_type": "stream",
     "text": [
      "                                 Open        High         Low       Close  \\\n",
      "Date                                                                        \n",
      "2010-06-29 00:00:00-04:00    1.266667    1.666667    1.169333    1.592667   \n",
      "2010-06-30 00:00:00-04:00    1.719333    2.028000    1.553333    1.588667   \n",
      "2010-07-01 00:00:00-04:00    1.666667    1.728000    1.351333    1.464000   \n",
      "2010-07-02 00:00:00-04:00    1.533333    1.540000    1.247333    1.280000   \n",
      "2010-07-06 00:00:00-04:00    1.333333    1.333333    1.055333    1.074000   \n",
      "...                               ...         ...         ...         ...   \n",
      "2023-04-24 00:00:00-04:00  164.649994  165.649994  158.610001  162.550003   \n",
      "2023-04-25 00:00:00-04:00  159.820007  163.470001  158.750000  160.669998   \n",
      "2023-04-26 00:00:00-04:00  160.289993  160.669998  153.139999  153.750000   \n",
      "2023-04-27 00:00:00-04:00  152.639999  160.479996  152.369995  160.190002   \n",
      "2023-04-28 00:00:00-04:00  160.899994  165.000000  157.320007  164.309998   \n",
      "\n",
      "                              Volume  Dividends  Stock Splits  \n",
      "Date                                                           \n",
      "2010-06-29 00:00:00-04:00  281494500        0.0           0.0  \n",
      "2010-06-30 00:00:00-04:00  257806500        0.0           0.0  \n",
      "2010-07-01 00:00:00-04:00  123282000        0.0           0.0  \n",
      "2010-07-02 00:00:00-04:00   77097000        0.0           0.0  \n",
      "2010-07-06 00:00:00-04:00  103003500        0.0           0.0  \n",
      "...                              ...        ...           ...  \n",
      "2023-04-24 00:00:00-04:00  140006600        0.0           0.0  \n",
      "2023-04-25 00:00:00-04:00  121999300        0.0           0.0  \n",
      "2023-04-26 00:00:00-04:00  153364100        0.0           0.0  \n",
      "2023-04-27 00:00:00-04:00  127015200        0.0           0.0  \n",
      "2023-04-28 00:00:00-04:00  122351000        0.0           0.0  \n",
      "\n",
      "[3231 rows x 7 columns]\n"
     ]
    }
   ],
   "source": [
    "print(tickerDf)"
   ]
  },
  {
   "cell_type": "markdown",
   "id": "772ab88c-fb52-408a-b45a-46524a52f15a",
   "metadata": {},
   "source": [
    "Question 2 - Extracting Tesla Revenue Data Using Webscraping"
   ]
  },
  {
   "cell_type": "code",
   "execution_count": 11,
   "id": "b3905a51-7387-4a10-b40a-995e413b5341",
   "metadata": {},
   "outputs": [
    {
     "name": "stdout",
     "output_type": "stream",
     "text": [
      "   Tesla Quarterly Revenue (Millions of US $)\n",
      "0                                  2023-03-31\n",
      "4                                  2022-03-31\n",
      "8                                  2021-03-31\n",
      "12                                 2020-03-31\n",
      "16                                 2019-03-31\n",
      "20                                 2018-03-31\n",
      "24                                 2017-03-31\n",
      "28                                 2016-03-31\n",
      "32                                 2015-03-31\n",
      "36                                 2014-03-31\n",
      "40                                 2013-03-31\n",
      "44                                 2012-03-31\n",
      "48                                 2011-03-31\n",
      "52                                 2010-03-31\n"
     ]
    }
   ],
   "source": [
    "import requests\n",
    "from bs4 import BeautifulSoup\n",
    "import pandas as pd\n",
    "\n",
    "url = 'https://www.macrotrends.net/stocks/charts/TSLA/tesla/revenue'\n",
    "html_page = requests.get(url).content\n",
    "\n",
    "soup = BeautifulSoup(html_page, 'html.parser')\n",
    "\n",
    "revenue_table = soup.find_all('table')[1]\n",
    "\n",
    "df = pd.read_html(str(revenue_table))[0]\n",
    "\n",
    "df = df.iloc[::4, :-1]\n",
    "#df.columns = ['Year', 'Revenue']\n",
    "\n",
    "print(df)\n"
   ]
  },
  {
   "cell_type": "markdown",
   "id": "cbf4dfef-3b6c-426d-b98c-634d709b7fb3",
   "metadata": {},
   "source": [
    "Question 3 - Extracting GameStop Stock Data Using yfinance"
   ]
  },
  {
   "cell_type": "code",
   "execution_count": 12,
   "id": "0e7b7e32-c92a-4cd9-92f3-6dfde0329a9f",
   "metadata": {},
   "outputs": [
    {
     "name": "stdout",
     "output_type": "stream",
     "text": [
      "                                Open       High        Low      Close  \\\n",
      "Date                                                                    \n",
      "2010-01-04 00:00:00-05:00   3.714934   3.863060   3.703151   3.854643   \n",
      "2010-01-05 00:00:00-05:00   3.856327   3.996037   3.854643   3.959005   \n",
      "2010-01-06 00:00:00-05:00   3.948905   4.056634   3.908507   4.044851   \n",
      "2010-01-07 00:00:00-05:00   3.368183   3.563440   3.268871   3.443929   \n",
      "2010-01-08 00:00:00-05:00   3.474228   3.573540   3.405215   3.415315   \n",
      "...                              ...        ...        ...        ...   \n",
      "2023-04-24 00:00:00-04:00  20.150000  20.410000  19.809999  19.930000   \n",
      "2023-04-25 00:00:00-04:00  19.740000  20.040001  18.910000  19.000000   \n",
      "2023-04-26 00:00:00-04:00  18.980000  19.230000  18.650000  18.650000   \n",
      "2023-04-27 00:00:00-04:00  18.750000  19.340000  18.719999  18.940001   \n",
      "2023-04-28 00:00:00-04:00  18.920000  19.719999  18.879999  19.290001   \n",
      "\n",
      "                              Volume  Dividends  Stock Splits  \n",
      "Date                                                           \n",
      "2010-01-04 00:00:00-05:00   26702800        0.0           0.0  \n",
      "2010-01-05 00:00:00-05:00   21269600        0.0           0.0  \n",
      "2010-01-06 00:00:00-05:00   21471200        0.0           0.0  \n",
      "2010-01-07 00:00:00-05:00  164761200        0.0           0.0  \n",
      "2010-01-08 00:00:00-05:00   47872400        0.0           0.0  \n",
      "...                              ...        ...           ...  \n",
      "2023-04-24 00:00:00-04:00    2742400        0.0           0.0  \n",
      "2023-04-25 00:00:00-04:00    2560800        0.0           0.0  \n",
      "2023-04-26 00:00:00-04:00    2287600        0.0           0.0  \n",
      "2023-04-27 00:00:00-04:00    2238900        0.0           0.0  \n",
      "2023-04-28 00:00:00-04:00    2835200        0.0           0.0  \n",
      "\n",
      "[3353 rows x 7 columns]\n"
     ]
    }
   ],
   "source": [
    "import yfinance as yf\n",
    "\n",
    "tickerSymbol = 'GME'\n",
    "\n",
    "tickerData = yf.Ticker(tickerSymbol)\n",
    "\n",
    "tickerDf = tickerData.history(period='1d', start='2010-01-01', end='2023-05-01')\n",
    "\n",
    "print(tickerDf)\n"
   ]
  },
  {
   "cell_type": "markdown",
   "id": "b9884edd-ee82-40c3-981f-abb5e7a1bba4",
   "metadata": {},
   "source": [
    "Question 4 - Extracting GameStop Revenue Data Using Webscraping"
   ]
  },
  {
   "cell_type": "code",
   "execution_count": 14,
   "id": "69658f35-1049-48d8-8f2f-1bfa6992bf59",
   "metadata": {},
   "outputs": [
    {
     "name": "stdout",
     "output_type": "stream",
     "text": [
      "   GameStop Quarterly Revenue (Millions of US $)\n",
      "0                                     2023-01-31\n",
      "4                                     2022-01-31\n",
      "8                                     2021-01-31\n",
      "12                                    2020-01-31\n",
      "16                                    2019-01-31\n",
      "20                                    2018-01-31\n",
      "24                                    2017-01-31\n",
      "28                                    2016-01-31\n",
      "32                                    2015-01-31\n",
      "36                                    2014-01-31\n",
      "40                                    2013-01-31\n",
      "44                                    2012-01-31\n",
      "48                                    2011-01-31\n",
      "52                                    2010-01-31\n",
      "56                                    2009-01-31\n"
     ]
    }
   ],
   "source": [
    "import requests\n",
    "from bs4 import BeautifulSoup\n",
    "import pandas as pd\n",
    "url = 'https://www.macrotrends.net/stocks/charts/GME/gamestop/revenue'\n",
    "html_page = requests.get(url).content\n",
    "soup = BeautifulSoup(html_page, 'html.parser')\n",
    "revenue_table = soup.find_all('table')[1]\n",
    "df = pd.read_html(str(revenue_table))[0]\n",
    "df = df.iloc[::4, :-1]\n",
    "#df.columns = ['Year', 'Revenue']\n",
    "print(df)"
   ]
  },
  {
   "cell_type": "markdown",
   "id": "60348b04-f024-49ac-9c11-87362dfbca16",
   "metadata": {},
   "source": [
    "Question 5 - Tesla Stock and Revenue Dashboard "
   ]
  },
  {
   "cell_type": "code",
   "execution_count": 18,
   "id": "87726f05-b934-4454-bec2-bbefb49e4d65",
   "metadata": {},
   "outputs": [
    {
     "ename": "KeyError",
     "evalue": "'Year'",
     "output_type": "error",
     "traceback": [
      "\u001b[0;31m---------------------------------------------------------------------------\u001b[0m",
      "\u001b[0;31mKeyError\u001b[0m                                  Traceback (most recent call last)",
      "File \u001b[0;32m/opt/conda/lib/python3.10/site-packages/pandas/core/indexes/base.py:3803\u001b[0m, in \u001b[0;36mIndex.get_loc\u001b[0;34m(self, key, method, tolerance)\u001b[0m\n\u001b[1;32m   3802\u001b[0m \u001b[38;5;28;01mtry\u001b[39;00m:\n\u001b[0;32m-> 3803\u001b[0m     \u001b[38;5;28;01mreturn\u001b[39;00m \u001b[38;5;28;43mself\u001b[39;49m\u001b[38;5;241;43m.\u001b[39;49m\u001b[43m_engine\u001b[49m\u001b[38;5;241;43m.\u001b[39;49m\u001b[43mget_loc\u001b[49m\u001b[43m(\u001b[49m\u001b[43mcasted_key\u001b[49m\u001b[43m)\u001b[49m\n\u001b[1;32m   3804\u001b[0m \u001b[38;5;28;01mexcept\u001b[39;00m \u001b[38;5;167;01mKeyError\u001b[39;00m \u001b[38;5;28;01mas\u001b[39;00m err:\n",
      "File \u001b[0;32m/opt/conda/lib/python3.10/site-packages/pandas/_libs/index.pyx:138\u001b[0m, in \u001b[0;36mpandas._libs.index.IndexEngine.get_loc\u001b[0;34m()\u001b[0m\n",
      "File \u001b[0;32m/opt/conda/lib/python3.10/site-packages/pandas/_libs/index.pyx:165\u001b[0m, in \u001b[0;36mpandas._libs.index.IndexEngine.get_loc\u001b[0;34m()\u001b[0m\n",
      "File \u001b[0;32mpandas/_libs/hashtable_class_helper.pxi:5745\u001b[0m, in \u001b[0;36mpandas._libs.hashtable.PyObjectHashTable.get_item\u001b[0;34m()\u001b[0m\n",
      "File \u001b[0;32mpandas/_libs/hashtable_class_helper.pxi:5753\u001b[0m, in \u001b[0;36mpandas._libs.hashtable.PyObjectHashTable.get_item\u001b[0;34m()\u001b[0m\n",
      "\u001b[0;31mKeyError\u001b[0m: 'Year'",
      "\nThe above exception was the direct cause of the following exception:\n",
      "\u001b[0;31mKeyError\u001b[0m                                  Traceback (most recent call last)",
      "Cell \u001b[0;32mIn [18], line 19\u001b[0m\n\u001b[1;32m     17\u001b[0m fig \u001b[38;5;241m=\u001b[39m make_subplots(rows\u001b[38;5;241m=\u001b[39m\u001b[38;5;241m2\u001b[39m, cols\u001b[38;5;241m=\u001b[39m\u001b[38;5;241m1\u001b[39m, shared_xaxes\u001b[38;5;241m=\u001b[39m\u001b[38;5;28;01mTrue\u001b[39;00m, vertical_spacing\u001b[38;5;241m=\u001b[39m\u001b[38;5;241m0.03\u001b[39m)\n\u001b[1;32m     18\u001b[0m fig\u001b[38;5;241m.\u001b[39madd_trace(go\u001b[38;5;241m.\u001b[39mScatter(x\u001b[38;5;241m=\u001b[39mtickerDf\u001b[38;5;241m.\u001b[39mindex, y\u001b[38;5;241m=\u001b[39mtickerDf[\u001b[38;5;124m'\u001b[39m\u001b[38;5;124mClose\u001b[39m\u001b[38;5;124m'\u001b[39m], name\u001b[38;5;241m=\u001b[39m\u001b[38;5;124m'\u001b[39m\u001b[38;5;124mStock Price\u001b[39m\u001b[38;5;124m'\u001b[39m), row\u001b[38;5;241m=\u001b[39m\u001b[38;5;241m1\u001b[39m, col\u001b[38;5;241m=\u001b[39m\u001b[38;5;241m1\u001b[39m)\n\u001b[0;32m---> 19\u001b[0m fig\u001b[38;5;241m.\u001b[39madd_trace(go\u001b[38;5;241m.\u001b[39mScatter(x\u001b[38;5;241m=\u001b[39m\u001b[43mrevenue_df\u001b[49m\u001b[43m[\u001b[49m\u001b[38;5;124;43m'\u001b[39;49m\u001b[38;5;124;43mYear\u001b[39;49m\u001b[38;5;124;43m'\u001b[39;49m\u001b[43m]\u001b[49m, y\u001b[38;5;241m=\u001b[39mrevenue_df[\u001b[38;5;124m'\u001b[39m\u001b[38;5;124mRevenue\u001b[39m\u001b[38;5;124m'\u001b[39m], name\u001b[38;5;241m=\u001b[39m\u001b[38;5;124m'\u001b[39m\u001b[38;5;124mRevenue\u001b[39m\u001b[38;5;124m'\u001b[39m), row\u001b[38;5;241m=\u001b[39m\u001b[38;5;241m2\u001b[39m, col\u001b[38;5;241m=\u001b[39m\u001b[38;5;241m1\u001b[39m)\n\u001b[1;32m     20\u001b[0m fig\u001b[38;5;241m.\u001b[39mupdate_layout(title\u001b[38;5;241m=\u001b[39m\u001b[38;5;124m'\u001b[39m\u001b[38;5;124mTesla Stock and Revenue Dashboard\u001b[39m\u001b[38;5;124m'\u001b[39m,\n\u001b[1;32m     21\u001b[0m                   xaxis_title\u001b[38;5;241m=\u001b[39m\u001b[38;5;124m'\u001b[39m\u001b[38;5;124mYear\u001b[39m\u001b[38;5;124m'\u001b[39m,\n\u001b[1;32m     22\u001b[0m                   yaxis1_title\u001b[38;5;241m=\u001b[39m\u001b[38;5;124m'\u001b[39m\u001b[38;5;124mStock Price (USD)\u001b[39m\u001b[38;5;124m'\u001b[39m,\n\u001b[1;32m     23\u001b[0m                   yaxis2_title\u001b[38;5;241m=\u001b[39m\u001b[38;5;124m'\u001b[39m\u001b[38;5;124mRevenue (Millions USD)\u001b[39m\u001b[38;5;124m'\u001b[39m,\n\u001b[1;32m     24\u001b[0m                   height\u001b[38;5;241m=\u001b[39m\u001b[38;5;241m800\u001b[39m)\n\u001b[1;32m     25\u001b[0m fig\u001b[38;5;241m.\u001b[39mshow()\n",
      "File \u001b[0;32m/opt/conda/lib/python3.10/site-packages/pandas/core/frame.py:3804\u001b[0m, in \u001b[0;36mDataFrame.__getitem__\u001b[0;34m(self, key)\u001b[0m\n\u001b[1;32m   3802\u001b[0m \u001b[38;5;28;01mif\u001b[39;00m \u001b[38;5;28mself\u001b[39m\u001b[38;5;241m.\u001b[39mcolumns\u001b[38;5;241m.\u001b[39mnlevels \u001b[38;5;241m>\u001b[39m \u001b[38;5;241m1\u001b[39m:\n\u001b[1;32m   3803\u001b[0m     \u001b[38;5;28;01mreturn\u001b[39;00m \u001b[38;5;28mself\u001b[39m\u001b[38;5;241m.\u001b[39m_getitem_multilevel(key)\n\u001b[0;32m-> 3804\u001b[0m indexer \u001b[38;5;241m=\u001b[39m \u001b[38;5;28;43mself\u001b[39;49m\u001b[38;5;241;43m.\u001b[39;49m\u001b[43mcolumns\u001b[49m\u001b[38;5;241;43m.\u001b[39;49m\u001b[43mget_loc\u001b[49m\u001b[43m(\u001b[49m\u001b[43mkey\u001b[49m\u001b[43m)\u001b[49m\n\u001b[1;32m   3805\u001b[0m \u001b[38;5;28;01mif\u001b[39;00m is_integer(indexer):\n\u001b[1;32m   3806\u001b[0m     indexer \u001b[38;5;241m=\u001b[39m [indexer]\n",
      "File \u001b[0;32m/opt/conda/lib/python3.10/site-packages/pandas/core/indexes/base.py:3805\u001b[0m, in \u001b[0;36mIndex.get_loc\u001b[0;34m(self, key, method, tolerance)\u001b[0m\n\u001b[1;32m   3803\u001b[0m     \u001b[38;5;28;01mreturn\u001b[39;00m \u001b[38;5;28mself\u001b[39m\u001b[38;5;241m.\u001b[39m_engine\u001b[38;5;241m.\u001b[39mget_loc(casted_key)\n\u001b[1;32m   3804\u001b[0m \u001b[38;5;28;01mexcept\u001b[39;00m \u001b[38;5;167;01mKeyError\u001b[39;00m \u001b[38;5;28;01mas\u001b[39;00m err:\n\u001b[0;32m-> 3805\u001b[0m     \u001b[38;5;28;01mraise\u001b[39;00m \u001b[38;5;167;01mKeyError\u001b[39;00m(key) \u001b[38;5;28;01mfrom\u001b[39;00m \u001b[38;5;21;01merr\u001b[39;00m\n\u001b[1;32m   3806\u001b[0m \u001b[38;5;28;01mexcept\u001b[39;00m \u001b[38;5;167;01mTypeError\u001b[39;00m:\n\u001b[1;32m   3807\u001b[0m     \u001b[38;5;66;03m# If we have a listlike key, _check_indexing_error will raise\u001b[39;00m\n\u001b[1;32m   3808\u001b[0m     \u001b[38;5;66;03m#  InvalidIndexError. Otherwise we fall through and re-raise\u001b[39;00m\n\u001b[1;32m   3809\u001b[0m     \u001b[38;5;66;03m#  the TypeError.\u001b[39;00m\n\u001b[1;32m   3810\u001b[0m     \u001b[38;5;28mself\u001b[39m\u001b[38;5;241m.\u001b[39m_check_indexing_error(key)\n",
      "\u001b[0;31mKeyError\u001b[0m: 'Year'"
     ]
    }
   ],
   "source": [
    "import yfinance as yf\n",
    "import requests\n",
    "from bs4 import BeautifulSoup\n",
    "import pandas as pd\n",
    "import plotly.graph_objs as go\n",
    "from plotly.subplots import make_subplots\n",
    "tickerSymbol = 'TSLA'\n",
    "tickerData = yf.Ticker(tickerSymbol)\n",
    "tickerDf = tickerData.history(period='1d', start='2010-01-01', end='2023-05-01')\n",
    "url = 'https://www.macrotrends.net/stocks/charts/TSLA/tesla/revenue'\n",
    "html_page = requests.get(url).content\n",
    "soup = BeautifulSoup(html_page, 'html.parser')\n",
    "revenue_table = soup.find_all('table')[1]\n",
    "revenue_df = pd.read_html(str(revenue_table))[0]\n",
    "revenue_df = revenue_df.iloc[::4, :-1]\n",
    "#revenue_df.columns = ['Year', 'Revenue']\n",
    "fig = make_subplots(rows=2, cols=1, shared_xaxes=True, vertical_spacing=0.03)\n",
    "fig.add_trace(go.Scatter(x=tickerDf.index, y=tickerDf['Close'], name='Stock Price'), row=1, col=1)\n",
    "fig.add_trace(go.Scatter(x=revenue_df['Year'], y=revenue_df['Revenue'], name='Revenue'), row=2, col=1)\n",
    "fig.update_layout(title='Tesla Stock and Revenue Dashboard',\n",
    "                  xaxis_title='Year',\n",
    "                  yaxis1_title='Stock Price (USD)',\n",
    "                  yaxis2_title='Revenue (Millions USD)',\n",
    "                  height=800)\n",
    "fig.show()"
   ]
  },
  {
   "cell_type": "markdown",
   "id": "af72c01d-70e9-4857-bc47-07a1dd6e2f67",
   "metadata": {},
   "source": [
    "Question 6 - GameStop Stock and Revenue Dashboard"
   ]
  },
  {
   "cell_type": "code",
   "execution_count": null,
   "id": "100ac6e6-224e-4e18-ad0a-e970a8606486",
   "metadata": {},
   "outputs": [],
   "source": []
  }
 ],
 "metadata": {
  "kernelspec": {
   "display_name": "Python 3 (ipykernel)",
   "language": "python",
   "name": "python3"
  },
  "language_info": {
   "codemirror_mode": {
    "name": "ipython",
    "version": 3
   },
   "file_extension": ".py",
   "mimetype": "text/x-python",
   "name": "python",
   "nbconvert_exporter": "python",
   "pygments_lexer": "ipython3",
   "version": "3.10.6"
  }
 },
 "nbformat": 4,
 "nbformat_minor": 5
}
